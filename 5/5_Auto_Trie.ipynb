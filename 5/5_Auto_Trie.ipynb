{
 "cells": [
  {
   "cell_type": "markdown",
   "metadata": {},
   "source": [
    "# Building a Trie in Python\n",
    "\n",
    "Before we start let us reiterate the key components of a Trie or Prefix Tree. A trie is a tree-like data structure that stores a dynamic set of strings. Tries are commonly used to facilitate operations like predictive text or autocomplete features on mobile phones or web search.\n",
    "\n",
    "Before we move into the autocomplete function we need to create a working trie for storing strings.  We will create two classes:\n",
    "* A `Trie` class that contains the root node (empty string)\n",
    "* A `TrieNode` class that exposes the general functionality of the Trie, like inserting a word or finding the node which represents a prefix.\n",
    "\n",
    "Give it a try by implementing the `TrieNode` and `Trie` classes below!"
   ]
  },
  {
   "cell_type": "code",
   "execution_count": 1,
   "metadata": {},
   "outputs": [],
   "source": [
    "## Represents a single node in the Trie - the building block\n",
    "class TrieNode: # Space complexity is linear O(n), n is no of children which depends on no of unique characters\n",
    "    def __init__(self): \n",
    "        ## Initialize this node in the Trie\n",
    "        self.children = {}\n",
    "        self.is_end_of_word = False\n",
    "O\n",
    "    def suffixes(self, suffix=''): # Time Complexity O(n) where n is the no of children the node has/the depth of Tries\n",
    "        #generate suffixes that can be formed using the existing characters. \n",
    "        # traverse all chhildren nodes - characters\n",
    "        suffix_list = []\n",
    "        if self.is_end_of_word: #if current node during traversal is the last node\n",
    "            suffix_list.append(suffix) # append the current suffix to the list\n",
    "        \n",
    "        for char, child_node in self.children.items():\n",
    "            suffix_list.extend(child_node.suffixes(suffix + char)) # keep track of accumulated suffixes\n",
    "        \n",
    "        return suffix_list\n",
    "        \n",
    "    def insert(self, char): # O(1)\n",
    "        # Add a child node in this Trie with associated character\n",
    "        self.children[char] = TrieNode() # insert new character into a newly created node"
   ]
  },
  {
   "cell_type": "markdown",
   "metadata": {},
   "source": [
    "# Finding Suffixes\n",
    "\n",
    "Now that we have a functioning Trie, we need to add the ability to list suffixes to implement our autocomplete feature.  To do that, we need to implement a new function on the `TrieNode` object that will return all complete word suffixes that exist below it in the trie.  For example, if our Trie contains the words `[\"fun\", \"function\", \"factory\"]` and we ask for suffixes from the `f` node, we would expect to receive `[\"un\", \"unction\", \"actory\"]` back from `node.suffixes()`.\n",
    "\n",
    "Using the code you wrote for the `TrieNode` above, try to add the suffixes function below. (Hint: recurse down the trie, collecting suffixes as you go.)"
   ]
  },
  {
   "cell_type": "code",
   "execution_count": 2,
   "metadata": {},
   "outputs": [],
   "source": [
    "class Trie: # Space complexity of the Trie is O(n), where the n is the unique characters in the input set of words\n",
    "    def __init__(self):\n",
    "        ## Initialize this Trie (add a root node)\n",
    "        self.root = TrieNode()\n",
    "\n",
    "    def insert(self, word): # Time complexity is O(L) where L is length of characters in the word inserted. // O(n)\n",
    "        node = self.root\n",
    "        for ch in word: #iterate through each character in the word  - O(n), n = length of word\n",
    "            if ch not in node.children:\n",
    "                node.children[ch] = TrieNode() # create new node if not in children and add char to children node\n",
    "            node = node.children[ch] # add char to children\n",
    "        node.is_end_of_word = True # mark last char as end of word\n",
    "        \n",
    "    def find(self, prefix): # Time complexity is O(P), P is the lenght of a word/ number of characters in the input prefix // O(n) \n",
    "        node = self.root # start at root node\n",
    "        for char in prefix: #traverse the Trie by character based on prefix\n",
    "            if char not in node.children: # if char is not in children of current_node\n",
    "                print(\"char\", char)\n",
    "                print(\"current_node\", current_node)\n",
    "                return None # return None if not found \n",
    "            node = node.children[char]\n",
    "        return node # if whole word is found return the word\n",
    "        \n",
    "    def autocomplete_word(self, prefix): # Time complexity is O(P+N), P is the length of prefix, N is the no of children in the prefix node\n",
    "        results = []\n",
    "        prefix_node = self.find(prefix)\n",
    "        if prefix_node:\n",
    "            results.extend(prefix_node.suffixes(prefix))\n",
    "        return results"
   ]
  },
  {
   "cell_type": "markdown",
   "metadata": {},
   "source": [
    "# Testing it all out\n",
    "\n",
    "Run the following code to add some words to your trie and then use the interactive search box to see what your code returns."
   ]
  },
  {
   "cell_type": "code",
   "execution_count": 3,
   "metadata": {},
   "outputs": [],
   "source": [
    "MyTrie = Trie()\n",
    "wordList = [\n",
    "    \"ant\", \"anthology\", \"antagonist\", \"antonym\", \n",
    "    \"fun\", \"function\", \"factory\", \n",
    "    \"trie\", \"trigger\", \"trigonometry\", \"tripod\"\n",
    "]\n",
    "for word in wordList:\n",
    "    MyTrie.insert(word)"
   ]
  },
  {
   "cell_type": "code",
   "execution_count": 4,
   "metadata": {},
   "outputs": [
    {
     "data": {
      "application/vnd.jupyter.widget-view+json": {
       "model_id": "a1ef3b59b2d84876a64ac4352500fbea",
       "version_major": 2,
       "version_minor": 0
      },
      "text/html": [
       "<p>Failed to display Jupyter Widget of type <code>interactive</code>.</p>\n",
       "<p>\n",
       "  If you're reading this message in the Jupyter Notebook or JupyterLab Notebook, it may mean\n",
       "  that the widgets JavaScript is still loading. If this message persists, it\n",
       "  likely means that the widgets JavaScript library is either not installed or\n",
       "  not enabled. See the <a href=\"https://ipywidgets.readthedocs.io/en/stable/user_install.html\">Jupyter\n",
       "  Widgets Documentation</a> for setup instructions.\n",
       "</p>\n",
       "<p>\n",
       "  If you're reading this message in another frontend (for example, a static\n",
       "  rendering on GitHub or <a href=\"https://nbviewer.jupyter.org/\">NBViewer</a>),\n",
       "  it may mean that your frontend doesn't currently support widgets.\n",
       "</p>\n"
      ],
      "text/plain": [
       "interactive(children=(Text(value='', description='prefix'), Output()), _dom_classes=('widget-interact',))"
      ]
     },
     "metadata": {},
     "output_type": "display_data"
    }
   ],
   "source": [
    "from ipywidgets import widgets\n",
    "from IPython.display import display\n",
    "from ipywidgets import interact\n",
    "def f(prefix):\n",
    "    if prefix != '':\n",
    "        prefixNode = MyTrie.find(prefix)\n",
    "        if prefixNode:\n",
    "            print('\\n'.join(prefixNode.suffixes()))\n",
    "        else:\n",
    "            print(prefix + \" not found\")\n",
    "    else:\n",
    "        print('')\n",
    "interact(f,prefix='');"
   ]
  },
  {
   "cell_type": "markdown",
   "metadata": {},
   "source": [
    "## Problem 4: Autocomplete with Trie\n",
    "\n",
    "**Requirement:**\n",
    "\n",
    "* A TrieNode class that exposes the general functionality of the Trie, like inserting a word or finding the node which represents a prefix. \n",
    "\n",
    "\n",
    "**TrieNode Class**\n",
    "- building block for the Trie - creates nodes \n",
    "- root node and children nodes that map the characters from a dictionary\n",
    "- is_end_of_word() attribute is a boolean that indicates if the character / leaf-child node represents the end of a word\n",
    "- Overall space complexity -  worst-case is linear - O(n) - where n is the total no of children the Trie node has. A node can have n children - dependant on the length of words.\n",
    "- Overall time complexity is O(n) - traverse and visit all nodes O(N), where N is total no of nodes + generate suffixes for each node and appending chars to the new nodes O(L), where n is length of longest word inserted\n",
    "\n",
    "\n",
    "*suffixes()\n",
    "- recursively traverses the Trie, until it finds an end_of_word node\n",
    "- returns a list with suffixes that can be made\n",
    "- Time complexity is given by the number of children a node has and the depth of the Trie it has to traverse. Since each node represents a character, the function traverses each node in the Trie -->> the time complexity is linear O(n)\n",
    "\n",
    "*insert()\n",
    "- creates a new TrieNode child node instance and adds a new character to it\n",
    "- time complexity is O(1) due to operations like checking the dictionary and adding key-value pairs\n",
    "\n",
    "\n",
    "**Trie Class**\n",
    "- Overall time complexity is O(n) - n is total no' of nodes in subtree\n",
    "- Space complexity is linear O(n). complexity is given by the number of unique characters inserted in words in Trie. The total number of nodes in the Trie is dependend on the total number of characters across all the words.\n",
    "\n",
    "\n",
    "- instantiate a root node using the TrieNode class. serves as starting point for all operations\n",
    "*insert()\n",
    "- Time complexity is linear - O(L) where L is length of characters in the word inserted. // O(n)\n",
    "- instantiate a root node\n",
    "\n",
    "*find()\n",
    "- search for prefix in the Trie starting at root node, iterating troguh all existing nodes searching for an input character and checks  if that character is associated with an existing node. Traversal returns the corresponding node associated with the character if that exists in the Trie. If node (character associated with a node) doesn't exit the method returns None.\n",
    "- If prefix is found, the last corresponding character/node of the input prefix is returned, and it serves as a starting point for further operation like autocompletion, by traversing the Trie from this point\n",
    "- Time Complexity is linear - O(P) where P is the length of prefix. \n",
    "\n",
    "*autocomplete_word()\n",
    "- uses the find() method to locate the node corresponding to the end of input prefix.\n",
    "- if prefix is found, returns the node corresponding to the last character in the prefix. \n",
    "- if prefix exists, it retrieves suffixes using suffixes() to generate a list with all possible suffixes that can be generated by using the chars in the subtree that roots/starts from the end node point of the prefix found. Suffixes() traverses recursively the Trie below the end node in the prefix and lists all completed words in all subroots/nodes - marked by end-of-word.\n",
    "- the method taked generated sufixxes list and adds them to result[] that holds all possible completions for the input prefix.\n",
    "- Time complexity is O(P+N) where P is the length of input prefix and N is the no of children in the prefix node. \n",
    "\n",
    "\n",
    "\n",
    "*references:\n",
    "- https://www.geeksforgeeks.org/trie-insert-and-search/\n",
    "- https://towardsdatascience.com/implementing-a-trie-data-structure-in-python-in-less-than-100-lines-of-code-a877ea23c1a1\n",
    "- https://stackoverflow.com/questions/46038694/implementing-a-trie-to-support-autocomplete-in-python\n",
    "- https://www.lavivienpost.com/autocomplete-with-trie-code/\n",
    "- https://mailtojyoti2005.medium.com/implementing-autocomplete-feature-in-python-using-trie-data-structure-73f78a9aa47\n",
    "- https://www.youtube.com/watch?v=P89vzewWDdw"
   ]
  },
  {
   "cell_type": "code",
   "execution_count": null,
   "metadata": {},
   "outputs": [],
   "source": []
  }
 ],
 "metadata": {
  "kernelspec": {
   "display_name": "Python 3",
   "language": "python",
   "name": "python3"
  },
  "language_info": {
   "codemirror_mode": {
    "name": "ipython",
    "version": 3
   },
   "file_extension": ".py",
   "mimetype": "text/x-python",
   "name": "python",
   "nbconvert_exporter": "python",
   "pygments_lexer": "ipython3",
   "version": "3.6.3"
  },
  "widgets": {
   "state": {},
   "version": "1.1.2"
  }
 },
 "nbformat": 4,
 "nbformat_minor": 2
}
